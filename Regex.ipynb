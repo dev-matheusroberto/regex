{
  "nbformat": 4,
  "nbformat_minor": 0,
  "metadata": {
    "colab": {
      "name": "Regex.ipynb",
      "provenance": []
    },
    "kernelspec": {
      "name": "python3",
      "display_name": "Python 3"
    },
    "language_info": {
      "name": "python"
    }
  },
  "cells": [
    {
      "cell_type": "markdown",
      "metadata": {
        "id": "qGIqfe52i89j"
      },
      "source": [
        "### Pós-graduação em Ciência de Dados e Machine Learning\n",
        "\n",
        "#### Disciplina: **Processamento de Linguagem Natural**\n",
        "\n",
        "#### Turma: **A**\n",
        "\n",
        "<BR>\n",
        "    \n",
        "#### Dupla\n",
        "\n",
        "#### Nome do Integrante: Pedro Henrique Rodrigues Mendes   RA:  52000060  \n",
        "\n",
        "#### Nome do Integrante: Matheus Roberto Souza Silva   RA: 52000056\n"
      ]
    },
    {
      "cell_type": "code",
      "metadata": {
        "id": "ylUzOim4hYAg"
      },
      "source": [
        "import re"
      ],
      "execution_count": null,
      "outputs": []
    },
    {
      "cell_type": "code",
      "metadata": {
        "colab": {
          "base_uri": "https://localhost:8080/"
        },
        "id": "GkB2dwpXmFWl",
        "outputId": "08ff5493-ab01-4639-cb2f-7310b5723404"
      },
      "source": [
        "def regex(string):\n",
        "  charRe = re.compile(r'[^a-zA-Z0-9.]')\n",
        "  string = charRe.search(string)\n",
        "  return not bool(string)\n",
        "print(regex(''))"
      ],
      "execution_count": null,
      "outputs": [
        {
          "output_type": "stream",
          "text": [
            "True\n"
          ],
          "name": "stdout"
        }
      ]
    },
    {
      "cell_type": "code",
      "metadata": {
        "colab": {
          "base_uri": "https://localhost:8080/"
        },
        "id": "obC5TChymFas",
        "outputId": "a9909817-6a2e-4491-b678-ce980890b610"
      },
      "source": [
        "# uma string que tem um a seguido por zero ou mais b's\n",
        "def regex(string):\n",
        "  charRe = re.compile(r'ab*')\n",
        "  string = charRe.findall(string)\n",
        "  #return not bool(string)\n",
        "  return string\n",
        "print(regex('a, b, ab, abbb, abbbb'))"
      ],
      "execution_count": null,
      "outputs": [
        {
          "output_type": "stream",
          "text": [
            "['a', 'ab', 'abbb', 'abbbb']\n"
          ],
          "name": "stdout"
        }
      ]
    },
    {
      "cell_type": "code",
      "metadata": {
        "colab": {
          "base_uri": "https://localhost:8080/"
        },
        "id": "5qJ5Y_w0mFct",
        "outputId": "41e9d4a0-0992-49a3-85ec-7bda786c51f1"
      },
      "source": [
        "# uma string que tem um a seguido por um ou mais b's\n",
        "def regex(string):\n",
        "  charRe = re.compile(r'ab+')\n",
        "  string = charRe.findall(string)\n",
        "  #return not bool(string)\n",
        "  return string\n",
        "print(regex('b, a, ab, abbb'))"
      ],
      "execution_count": null,
      "outputs": [
        {
          "output_type": "stream",
          "text": [
            "['ab', 'abbb']\n"
          ],
          "name": "stdout"
        }
      ]
    },
    {
      "cell_type": "code",
      "metadata": {
        "colab": {
          "base_uri": "https://localhost:8080/"
        },
        "id": "gUp5GKJLmfsW",
        "outputId": "8ba09620-4218-4b01-c54f-1eac90592bdd"
      },
      "source": [
        "# uma string que tem um a seguido por zero ou um 'b'\n",
        "def regex(string):\n",
        "  charRe = re.compile(r'ab?')\n",
        "  string = charRe.findall(string)\n",
        "  #return not bool(string)\n",
        "  return string\n",
        "print(regex('b, a, ab, abbb'))"
      ],
      "execution_count": null,
      "outputs": [
        {
          "output_type": "stream",
          "text": [
            "['a', 'ab', 'ab']\n"
          ],
          "name": "stdout"
        }
      ]
    },
    {
      "cell_type": "code",
      "metadata": {
        "colab": {
          "base_uri": "https://localhost:8080/"
        },
        "id": "lGNbsf8mmfur",
        "outputId": "a62164b7-5685-4b96-bfa2-aecb018d6e46"
      },
      "source": [
        "# uma string que tem um a seguido por três 'b'\n",
        "def regex(string):\n",
        "  charRe = re.compile(r'ab{3}')\n",
        "  string = charRe.search(string)\n",
        "  #return not bool(string)\n",
        "  return string\n",
        "print(regex('aaa abbb abb'))"
      ],
      "execution_count": null,
      "outputs": [
        {
          "output_type": "stream",
          "text": [
            "<re.Match object; span=(4, 8), match='abbb'>\n"
          ],
          "name": "stdout"
        }
      ]
    },
    {
      "cell_type": "code",
      "metadata": {
        "colab": {
          "base_uri": "https://localhost:8080/"
        },
        "id": "crgsAQfYmfxN",
        "outputId": "d8d70de9-a121-47cb-ce3c-d45670fd24e8"
      },
      "source": [
        "# uma string que tem um a seguido por dois a três 'b'.\n",
        "def regex(string):\n",
        "  charRe = re.compile(r'ab{2,3}')\n",
        "  string = charRe.findall(string)\n",
        "  #return not bool(string)\n",
        "  return string\n",
        "print(regex('ab aab abb abbb'))"
      ],
      "execution_count": null,
      "outputs": [
        {
          "output_type": "stream",
          "text": [
            "['abb', 'abbb']\n"
          ],
          "name": "stdout"
        }
      ]
    },
    {
      "cell_type": "code",
      "metadata": {
        "colab": {
          "base_uri": "https://localhost:8080/"
        },
        "id": "zkzS4IaJmf0e",
        "outputId": "5ac2d440-c979-4508-fc03-d65985184145"
      },
      "source": [
        "# sequências de letras minúsculas unidas por um sublinhado.\n",
        "def regex(string):\n",
        "  charRe = re.compile(r'[a-z]+_+[a-z]+')\n",
        "  string = charRe.findall(string)\n",
        "  #return not bool(string)\n",
        "  return string\n",
        "print(regex('Meu usuário é matheus_roberto, o dele é pedro_henrique'))"
      ],
      "execution_count": null,
      "outputs": [
        {
          "output_type": "stream",
          "text": [
            "['matheus_roberto', 'pedro_henrique']\n"
          ],
          "name": "stdout"
        }
      ]
    },
    {
      "cell_type": "code",
      "metadata": {
        "colab": {
          "base_uri": "https://localhost:8080/"
        },
        "id": "12qaMjKHmf1i",
        "outputId": "46540b0d-745a-47e2-fe1b-a76d0723680b"
      },
      "source": [
        "# as sequências de uma letra maiúscula seguida de letras minúsculas.\n",
        "def regex(string):\n",
        "  charRe = re.compile(r'[A-Z]+[a-z]+')\n",
        "  string = charRe.findall(string)\n",
        "  #return not bool(string)\n",
        "  return string\n",
        "print(regex('Matheus Roberto, pedrO henriquE roDrigues menDes'))"
      ],
      "execution_count": null,
      "outputs": [
        {
          "output_type": "stream",
          "text": [
            "['Matheus', 'Roberto', 'Drigues', 'Des']\n"
          ],
          "name": "stdout"
        }
      ]
    },
    {
      "cell_type": "code",
      "metadata": {
        "colab": {
          "base_uri": "https://localhost:8080/"
        },
        "id": "ogbVQr6Mmf4o",
        "outputId": "8828ebf5-c597-4882-b68d-b01503d7deab"
      },
      "source": [
        "# uma string que tem um 'a' seguido por qualquer coisa, terminando em 'b'.\n",
        "def regex(string):\n",
        "  charRe = re.compile(r'a\\w*b')\n",
        "  string = charRe.findall(string)\n",
        "  #return not bool(string)\n",
        "  return string\n",
        "print(regex('atesteb btestea'))"
      ],
      "execution_count": null,
      "outputs": [
        {
          "output_type": "stream",
          "text": [
            "['atesteb']\n"
          ],
          "name": "stdout"
        }
      ]
    },
    {
      "cell_type": "code",
      "metadata": {
        "colab": {
          "base_uri": "https://localhost:8080/"
        },
        "id": "B83GdtXkmf8X",
        "outputId": "6cc9f53c-5baf-4476-faf0-116ba7073023"
      },
      "source": [
        "# uma palavra no início de uma string.\n",
        "def regex(string):\n",
        "  charRe = re.compile(r'^\\w+')\n",
        "  #charRe = re.compile(r'\\A[a-zA-Z]+')\n",
        "  string = charRe.search(string)\n",
        "  #return not bool(string)\n",
        "  return string\n",
        "print(regex('Esquecer é uma necessidade'))"
      ],
      "execution_count": null,
      "outputs": [
        {
          "output_type": "stream",
          "text": [
            "<re.Match object; span=(0, 8), match='Esquecer'>\n"
          ],
          "name": "stdout"
        }
      ]
    },
    {
      "cell_type": "code",
      "metadata": {
        "colab": {
          "base_uri": "https://localhost:8080/"
        },
        "id": "6t7wc4OXmf99",
        "outputId": "aa512e4e-f4ac-45e8-80e3-93ffc89d7b7e"
      },
      "source": [
        "# uma palavra no final da string, com pontuação opcional.\n",
        "def regex(string):\n",
        "  charRe = re.compile(r'[a-zA-Z]*\\.+$')\n",
        "  string = charRe.search(string)\n",
        "  #return not bool(string)\n",
        "  return string\n",
        "print(regex('O rato roeu a roupa do rei de Roma.'))"
      ],
      "execution_count": null,
      "outputs": [
        {
          "output_type": "stream",
          "text": [
            "<re.Match object; span=(30, 35), match='Roma.'>\n"
          ],
          "name": "stdout"
        }
      ]
    },
    {
      "cell_type": "code",
      "metadata": {
        "colab": {
          "base_uri": "https://localhost:8080/"
        },
        "id": "toAQWMSJmgBH",
        "outputId": "9b08a708-56d9-4aa5-e19b-108147a8aa6b"
      },
      "source": [
        "# uma palavra contendo 'z'\n",
        "def regex(string):\n",
        "  charRe = re.compile(r'\\b\\w*[z]\\w*\\b')\n",
        "  string = charRe.findall(string)\n",
        "  #return not bool(string)\n",
        "  return string\n",
        "print(regex('zumba, azedo, arroz'))"
      ],
      "execution_count": null,
      "outputs": [
        {
          "output_type": "stream",
          "text": [
            "['zumba', 'azedo', 'arroz']\n"
          ],
          "name": "stdout"
        }
      ]
    },
    {
      "cell_type": "code",
      "metadata": {
        "colab": {
          "base_uri": "https://localhost:8080/"
        },
        "id": "LcqK6Ao5nCAd",
        "outputId": "70d62623-4f38-4bae-8366-f518519546a0"
      },
      "source": [
        "# uma palavra contendo 'z', não no início ou no final da palavra.\n",
        "def regex(string):\n",
        "  charRe = re.compile(r'[a-zA-Z]*\\Bz+[a-zA-Z]+')\n",
        "  string = charRe.findall(string)\n",
        "  #return not bool(string)\n",
        "  return string\n",
        "print(regex('beleza, azeite, amizade. zangado, zumbido, zumba'))"
      ],
      "execution_count": null,
      "outputs": [
        {
          "output_type": "stream",
          "text": [
            "['beleza', 'azeite', 'amizade']\n"
          ],
          "name": "stdout"
        }
      ]
    },
    {
      "cell_type": "code",
      "metadata": {
        "colab": {
          "base_uri": "https://localhost:8080/"
        },
        "id": "d92fSCPEnCBz",
        "outputId": "069bfe87-efa7-44b1-b3b3-3d6403edb3d3"
      },
      "source": [
        "# uma string que contém apenas letras maiúsculas e minúsculas, números e sublinhados.\n",
        "def regex(string):\n",
        "  charRe = re.compile(r'^\\w+$')\n",
        "  string = charRe.findall(string)\n",
        "  #return not bool(string)\n",
        "  return string\n",
        "print(regex('João_Pedro09'))"
      ],
      "execution_count": null,
      "outputs": [
        {
          "output_type": "stream",
          "text": [
            "['João_Pedro09']\n"
          ],
          "name": "stdout"
        }
      ]
    },
    {
      "cell_type": "code",
      "metadata": {
        "colab": {
          "base_uri": "https://localhost:8080/"
        },
        "id": "COo-uTwxnCEt",
        "outputId": "e1edfb10-3fcd-4e02-e971-937bdee5eaef"
      },
      "source": [
        "# uma string começará com um número específico.\n",
        "def regex(string):\n",
        "  charRe = re.compile(r'^\\d')\n",
        "  string = charRe.search(string)\n",
        "  #return not bool(string)\n",
        "  return string\n",
        "print(regex('7 maravilhas do mundo'))"
      ],
      "execution_count": null,
      "outputs": [
        {
          "output_type": "stream",
          "text": [
            "<re.Match object; span=(0, 1), match='7'>\n"
          ],
          "name": "stdout"
        }
      ]
    },
    {
      "cell_type": "code",
      "metadata": {
        "colab": {
          "base_uri": "https://localhost:8080/"
        },
        "id": "uBbIuU-OnCGD",
        "outputId": "f4eeda12-3a99-4129-ba35-3fcd853156bd"
      },
      "source": [
        "# para remover zeros à esquerda de um endereço IP\n",
        "def regex(string):\n",
        "  string = re.sub('^0+', '', string)\n",
        "  return string\n",
        "print(regex('010.125.012.135'))"
      ],
      "execution_count": null,
      "outputs": [
        {
          "output_type": "stream",
          "text": [
            "10.125.012.135\n"
          ],
          "name": "stdout"
        }
      ]
    },
    {
      "cell_type": "code",
      "metadata": {
        "colab": {
          "base_uri": "https://localhost:8080/"
        },
        "id": "3OJBxVTinCHn",
        "outputId": "bdfacd5d-6acb-46ff-8021-cb231e0a8fa4"
      },
      "source": [
        "# para verificar se há um número no final de uma string.\n",
        "def regex(string):\n",
        "  charRe = re.compile(r'\\d$')\n",
        "  string = charRe.search(string)\n",
        "  return bool(string)\n",
        "  #return string\n",
        "print(regex('Quantidade de maravilhas do mundo são 7'))"
      ],
      "execution_count": null,
      "outputs": [
        {
          "output_type": "stream",
          "text": [
            "True\n"
          ],
          "name": "stdout"
        }
      ]
    },
    {
      "cell_type": "code",
      "metadata": {
        "colab": {
          "base_uri": "https://localhost:8080/"
        },
        "id": "WfE1u9xfnCI8",
        "outputId": "d71f3f77-8f73-4a17-b107-a16b71ae3d6b"
      },
      "source": [
        "# para pesquisar os números (0-9) de comprimento entre 1 a 3 em uma determinada string.\n",
        "def regex(string):\n",
        "  charRe = re.compile(r'\\b\\d{1,3}\\b')\n",
        "  string = charRe.findall(string)\n",
        "  #return bool(string)\n",
        "  return string\n",
        "print(regex('500 pessoas, 4000 metros, 30 porcos, 40 galinhas, 3 crianças'))"
      ],
      "execution_count": null,
      "outputs": [
        {
          "output_type": "stream",
          "text": [
            "['500', '30', '40', '3']\n"
          ],
          "name": "stdout"
        }
      ]
    },
    {
      "cell_type": "code",
      "metadata": {
        "colab": {
          "base_uri": "https://localhost:8080/"
        },
        "id": "RQS8GPugnCKU",
        "outputId": "3fe67f41-13fb-417f-c549-986c9e72a63b"
      },
      "source": [
        "# converter uma data do formato aaaa-mm-dd para o formato dd-mm-aaaa.\n",
        "def regex(string):\n",
        "  string = re.sub(r'(\\d{4})-(\\d{1,2})-(\\d{1,2})', '\\\\3-\\\\2-\\\\1', string)\n",
        "  return string\n",
        "print(regex('1999-04-18'))"
      ],
      "execution_count": null,
      "outputs": [
        {
          "output_type": "stream",
          "text": [
            "18-04-1999\n"
          ],
          "name": "stdout"
        }
      ]
    }
  ]
}